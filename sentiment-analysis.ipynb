{
  "nbformat": 4,
  "nbformat_minor": 0,
  "metadata": {
    "kernelspec": {
      "display_name": "Python 3",
      "language": "python",
      "name": "python3"
    },
    "language_info": {
      "codemirror_mode": {
        "name": "ipython",
        "version": 3
      },
      "file_extension": ".py",
      "mimetype": "text/x-python",
      "name": "python",
      "nbconvert_exporter": "python",
      "pygments_lexer": "ipython3",
      "version": "3.7.6"
    },
    "papermill": {
      "duration": 436.259004,
      "end_time": "2020-09-30T13:41:08.547545",
      "environment_variables": {},
      "exception": null,
      "input_path": "__notebook__.ipynb",
      "output_path": "__notebook__.ipynb",
      "parameters": {},
      "start_time": "2020-09-30T13:33:52.288541",
      "version": "2.1.0"
    },
    "colab": {
      "name": "sentiment-analysis.ipynb",
      "provenance": [],
      "private_outputs": true,
      "toc_visible": true
    }
  },
  "cells": [
    {
      "cell_type": "code",
      "metadata": {
        "_cell_guid": "79c7e3d0-c299-4dcb-8224-4455121ee9b0",
        "_uuid": "d629ff2d2480ee46fbb7e2d37f6b5fab8052498a",
        "execution": {
          "iopub.execute_input": "2020-09-30T13:33:56.872502Z",
          "iopub.status.busy": "2020-09-30T13:33:56.871778Z",
          "iopub.status.idle": "2020-09-30T13:34:04.211554Z",
          "shell.execute_reply": "2020-09-30T13:34:04.212198Z"
        },
        "id": "cB_RieNfrIQc",
        "papermill": {
          "duration": 7.360283,
          "end_time": "2020-09-30T13:34:04.212400",
          "exception": false,
          "start_time": "2020-09-30T13:33:56.852117",
          "status": "completed"
        },
        "tags": []
      },
      "source": [
        "import tensorflow as tf\n",
        "import matplotlib.pyplot as plt\n",
        "import pandas as pd\n",
        "import numpy as np\n",
        "\n",
        "\n",
        "import nltk \n",
        "nltk.download('stopwords')\n",
        "from nltk.corpus import stopwords\n",
        "from nltk.stem import SnowballStemmer\n",
        "\n",
        "from sklearn.model_selection import train_test_split\n",
        "from sklearn.preprocessing import LabelEncoder\n",
        "\n",
        "import re"
      ],
      "execution_count": null,
      "outputs": []
    },
    {
      "cell_type": "markdown",
      "metadata": {
        "id": "qWfui-o3rIQg",
        "papermill": {
          "duration": 0.015653,
          "end_time": "2020-09-30T13:34:04.244719",
          "exception": false,
          "start_time": "2020-09-30T13:34:04.229066",
          "status": "completed"
        },
        "tags": []
      },
      "source": [
        "#  Dataset Preprocessing"
      ]
    },
    {
      "cell_type": "code",
      "metadata": {
        "execution": {
          "iopub.execute_input": "2020-09-30T13:34:04.290242Z",
          "iopub.status.busy": "2020-09-30T13:34:04.289573Z",
          "iopub.status.idle": "2020-09-30T13:34:10.848120Z",
          "shell.execute_reply": "2020-09-30T13:34:10.849012Z"
        },
        "id": "19Vb_EeDrIQh",
        "papermill": {
          "duration": 6.587527,
          "end_time": "2020-09-30T13:34:10.849160",
          "exception": false,
          "start_time": "2020-09-30T13:34:04.261633",
          "status": "completed"
        },
        "tags": []
      },
      "source": [
        "df = pd.read_csv('../input/sentiment140/training.1600000.processed.noemoticon.csv', encoding = 'latin')\n",
        "df.columns = ['sentiment', 'id', 'date', 'query', 'user_id', 'text']\n",
        "df['sentiment_pos'] = df['sentiment'].apply(lambda x: 1 if x==4 else 0)\n",
        "df['sentiment_neg'] = df['sentiment'].apply(lambda x: 1 if x==0 else 0)\n",
        "df = df.drop(['id', 'date', 'query', 'user_id','sentiment'], axis=1)\n",
        "df.head()"
      ],
      "execution_count": null,
      "outputs": []
    },
    {
      "cell_type": "code",
      "metadata": {
        "execution": {
          "iopub.execute_input": "2020-09-30T13:34:10.939119Z",
          "iopub.status.busy": "2020-09-30T13:34:10.937957Z",
          "iopub.status.idle": "2020-09-30T13:34:11.240115Z",
          "shell.execute_reply": "2020-09-30T13:34:11.240727Z"
        },
        "id": "wkL5Neg3rIQo",
        "papermill": {
          "duration": 0.326016,
          "end_time": "2020-09-30T13:34:11.240878",
          "exception": false,
          "start_time": "2020-09-30T13:34:10.914862",
          "status": "completed"
        },
        "tags": []
      },
      "source": [
        "df = df.sample(frac = 0.25)\n",
        "val_count = df.sentiment_pos.value_counts()\n",
        "\n",
        "plt.figure(figsize=(8,4))\n",
        "plt.bar(['Negative','Positive'], val_count.values)\n",
        "plt.title(\"Data Distribution\")"
      ],
      "execution_count": null,
      "outputs": []
    },
    {
      "cell_type": "code",
      "metadata": {
        "execution": {
          "iopub.execute_input": "2020-09-30T13:34:11.285809Z",
          "iopub.status.busy": "2020-09-30T13:34:11.285065Z",
          "iopub.status.idle": "2020-09-30T13:34:11.288088Z",
          "shell.execute_reply": "2020-09-30T13:34:11.287623Z"
        },
        "id": "yZkT5SqMrIQv",
        "papermill": {
          "duration": 0.027979,
          "end_time": "2020-09-30T13:34:11.288179",
          "exception": false,
          "start_time": "2020-09-30T13:34:11.260200",
          "status": "completed"
        },
        "tags": []
      },
      "source": [
        "def preprocess(text, stem=False):\n",
        "  text = re.sub(\"@\\S+|https?:\\S+|http?:\\S|[^A-Za-z0-9]+\", ' ', str(text).lower()).strip()\n",
        "  stop_words = stopwords.words('english')\n",
        "  stemmer = SnowballStemmer('english')\n",
        "  tokens = []\n",
        "  for token in text.split():\n",
        "    if token not in stop_words:\n",
        "      if stem:\n",
        "        tokens.append(stemmer.stem(token))\n",
        "      else:\n",
        "        tokens.append(token)\n",
        "  return \" \".join(tokens)"
      ],
      "execution_count": null,
      "outputs": []
    },
    {
      "cell_type": "code",
      "metadata": {
        "execution": {
          "iopub.execute_input": "2020-09-30T13:34:11.328564Z",
          "iopub.status.busy": "2020-09-30T13:34:11.327720Z",
          "iopub.status.idle": "2020-09-30T13:35:31.932743Z",
          "shell.execute_reply": "2020-09-30T13:35:31.931702Z"
        },
        "id": "b-y2BnHvrIQy",
        "papermill": {
          "duration": 80.626844,
          "end_time": "2020-09-30T13:35:31.932895",
          "exception": false,
          "start_time": "2020-09-30T13:34:11.306051",
          "status": "completed"
        },
        "tags": []
      },
      "source": [
        "df.text = df.text.apply(lambda x: preprocess(x))"
      ],
      "execution_count": null,
      "outputs": []
    },
    {
      "cell_type": "markdown",
      "metadata": {
        "id": "efCM_ww3rIQ8",
        "papermill": {
          "duration": 0.018962,
          "end_time": "2020-09-30T13:35:32.017175",
          "exception": false,
          "start_time": "2020-09-30T13:35:31.998213",
          "status": "completed"
        },
        "tags": []
      },
      "source": [
        "# Tokenization"
      ]
    },
    {
      "cell_type": "code",
      "metadata": {
        "execution": {
          "iopub.execute_input": "2020-09-30T13:35:32.060375Z",
          "iopub.status.busy": "2020-09-30T13:35:32.059621Z",
          "iopub.status.idle": "2020-09-30T13:35:32.062119Z",
          "shell.execute_reply": "2020-09-30T13:35:32.062562Z"
        },
        "id": "_UYTKvvB4tFa",
        "papermill": {
          "duration": 0.02734,
          "end_time": "2020-09-30T13:35:32.062695",
          "exception": false,
          "start_time": "2020-09-30T13:35:32.035355",
          "status": "completed"
        },
        "tags": []
      },
      "source": [
        "x = df.text\n",
        "y = df[['sentiment_pos', 'sentiment_neg']]"
      ],
      "execution_count": null,
      "outputs": []
    },
    {
      "cell_type": "code",
      "metadata": {
        "execution": {
          "iopub.execute_input": "2020-09-30T13:35:32.179417Z",
          "iopub.status.busy": "2020-09-30T13:35:32.164022Z",
          "iopub.status.idle": "2020-09-30T13:35:49.157404Z",
          "shell.execute_reply": "2020-09-30T13:35:49.156663Z"
        },
        "id": "gTxikfvo2Kmy",
        "papermill": {
          "duration": 17.026084,
          "end_time": "2020-09-30T13:35:49.157522",
          "exception": false,
          "start_time": "2020-09-30T13:35:32.131438",
          "status": "completed"
        },
        "tags": []
      },
      "source": [
        "from sklearn.feature_extraction.text import TfidfVectorizer\n",
        "\n",
        "vectorizer = TfidfVectorizer(max_features=2500)\n",
        "tfidf = vectorizer.fit(x)\n",
        "processed_features = tfidf.transform(x).toarray()"
      ],
      "execution_count": null,
      "outputs": []
    },
    {
      "cell_type": "code",
      "metadata": {
        "execution": {
          "iopub.execute_input": "2020-09-30T13:35:49.247630Z",
          "iopub.status.busy": "2020-09-30T13:35:49.246549Z",
          "iopub.status.idle": "2020-09-30T13:35:49.255139Z",
          "shell.execute_reply": "2020-09-30T13:35:49.254561Z"
        },
        "papermill": {
          "duration": 0.077663,
          "end_time": "2020-09-30T13:35:49.255247",
          "exception": false,
          "start_time": "2020-09-30T13:35:49.177584",
          "status": "completed"
        },
        "tags": [],
        "id": "fJlpZ1CaqTzn"
      },
      "source": [
        "import pickle\n",
        "pickle.dump(tfidf, open(\"vectorizer.pickle\", \"wb\"))"
      ],
      "execution_count": null,
      "outputs": []
    },
    {
      "cell_type": "code",
      "metadata": {
        "execution": {
          "iopub.execute_input": "2020-09-30T13:35:49.300788Z",
          "iopub.status.busy": "2020-09-30T13:35:49.300025Z",
          "iopub.status.idle": "2020-09-30T13:35:49.304530Z",
          "shell.execute_reply": "2020-09-30T13:35:49.305289Z"
        },
        "id": "Dw67Rbf16Azc",
        "papermill": {
          "duration": 0.029202,
          "end_time": "2020-09-30T13:35:49.305456",
          "exception": false,
          "start_time": "2020-09-30T13:35:49.276254",
          "status": "completed"
        },
        "tags": []
      },
      "source": [
        "processed_features = processed_features.reshape(processed_features.shape[0],1,processed_features.shape[1])\n",
        "print(processed_features.shape)"
      ],
      "execution_count": null,
      "outputs": []
    },
    {
      "cell_type": "code",
      "metadata": {
        "execution": {
          "iopub.execute_input": "2020-09-30T13:35:49.351887Z",
          "iopub.status.busy": "2020-09-30T13:35:49.351127Z",
          "iopub.status.idle": "2020-09-30T13:35:49.353784Z",
          "shell.execute_reply": "2020-09-30T13:35:49.354343Z"
        },
        "papermill": {
          "duration": 0.027801,
          "end_time": "2020-09-30T13:35:49.354460",
          "exception": false,
          "start_time": "2020-09-30T13:35:49.326659",
          "status": "completed"
        },
        "tags": [],
        "id": "bpNEyWYHqTzv"
      },
      "source": [
        "from tensorflow.keras.layers import Conv1D, Bidirectional, LSTM, Dense, Input, Dropout\n",
        "from tensorflow.keras.layers import SpatialDropout1D\n",
        "from tensorflow.keras.callbacks import ModelCheckpoint"
      ],
      "execution_count": null,
      "outputs": []
    },
    {
      "cell_type": "code",
      "metadata": {
        "execution": {
          "iopub.execute_input": "2020-09-30T13:35:49.402523Z",
          "iopub.status.busy": "2020-09-30T13:35:49.401820Z",
          "iopub.status.idle": "2020-09-30T13:35:53.267383Z",
          "shell.execute_reply": "2020-09-30T13:35:53.266603Z"
        },
        "papermill": {
          "duration": 3.892634,
          "end_time": "2020-09-30T13:35:53.267566",
          "exception": false,
          "start_time": "2020-09-30T13:35:49.374932",
          "status": "completed"
        },
        "tags": [],
        "id": "kfoqu_trqTz0"
      },
      "source": [
        "inp = Input(shape=(1,processed_features.shape[2]))\n",
        "x = Bidirectional(LSTM(64, dropout=0.2, recurrent_dropout=0.2))(inp)\n",
        "x = Dense(512, activation='relu')(x)\n",
        "x = Dropout(0.5)(x)\n",
        "x = Dense(512, activation='relu')(x)\n",
        "outputs = Dense(2, activation='softmax')(x)\n",
        "model = tf.keras.Model(inp, outputs)"
      ],
      "execution_count": null,
      "outputs": []
    },
    {
      "cell_type": "code",
      "metadata": {
        "execution": {
          "iopub.execute_input": "2020-09-30T13:35:53.321615Z",
          "iopub.status.busy": "2020-09-30T13:35:53.320658Z",
          "iopub.status.idle": "2020-09-30T13:35:53.327499Z",
          "shell.execute_reply": "2020-09-30T13:35:53.327006Z"
        },
        "papermill": {
          "duration": 0.039046,
          "end_time": "2020-09-30T13:35:53.327607",
          "exception": false,
          "start_time": "2020-09-30T13:35:53.288561",
          "status": "completed"
        },
        "tags": [],
        "id": "fUtuev2NqTz4"
      },
      "source": [
        "from tensorflow.keras.optimizers import Adam\n",
        "from tensorflow.keras.callbacks import ReduceLROnPlateau\n",
        "\n",
        "model.compile(optimizer=Adam(), loss='categorical_crossentropy', metrics=['accuracy'])\n",
        "ReduceLROnPlateau = ReduceLROnPlateau(factor=0.1, min_lr = 0.01, monitor = 'val_loss', verbose = 1)"
      ],
      "execution_count": null,
      "outputs": []
    },
    {
      "cell_type": "code",
      "metadata": {
        "execution": {
          "iopub.execute_input": "2020-09-30T13:35:53.373112Z",
          "iopub.status.busy": "2020-09-30T13:35:53.372489Z",
          "iopub.status.idle": "2020-09-30T13:40:57.097085Z",
          "shell.execute_reply": "2020-09-30T13:40:57.096203Z"
        },
        "papermill": {
          "duration": 303.749317,
          "end_time": "2020-09-30T13:40:57.097255",
          "exception": false,
          "start_time": "2020-09-30T13:35:53.347938",
          "status": "completed"
        },
        "tags": [],
        "id": "Zg88xmcZqTz8"
      },
      "source": [
        "history = model.fit(processed_features, y, batch_size=512, epochs=50, validation_split=0.2, callbacks=[ReduceLROnPlateau])"
      ],
      "execution_count": null,
      "outputs": []
    },
    {
      "cell_type": "code",
      "metadata": {
        "execution": {
          "iopub.execute_input": "2020-09-30T13:41:00.958551Z",
          "iopub.status.busy": "2020-09-30T13:41:00.957742Z",
          "iopub.status.idle": "2020-09-30T13:41:01.028851Z",
          "shell.execute_reply": "2020-09-30T13:41:01.028231Z"
        },
        "id": "B-Ti8pmyrIRd",
        "papermill": {
          "duration": 1.899033,
          "end_time": "2020-09-30T13:41:01.028968",
          "exception": false,
          "start_time": "2020-09-30T13:40:59.129935",
          "status": "completed"
        },
        "tags": []
      },
      "source": [
        "model.save('model.h5')"
      ],
      "execution_count": null,
      "outputs": []
    }
  ]
}